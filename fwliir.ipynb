{
 "cells": [
  {
   "cell_type": "code",
   "execution_count": 59,
   "metadata": {},
   "outputs": [],
   "source": [
    "%matplotlib inline\n",
    "\n",
    "import os\n",
    "import shutil\n",
    "from IPython.display import Image, display\n",
    "from IPython.core.magic import register_cell_magic\n",
    "\n",
    "@register_cell_magic\n",
    "def blockdiag(name, cell):\n",
    "    os.makedirs('tmp/blockdiag/', exist_ok=True)\n",
    "    with open('tmp/blockdiag/' + name, 'w') as f:\n",
    "        f.write(cell)\n",
    "    if shutil.which('convert'):\n",
    "        !blockdiag -Tsvg tmp/blockdiag/{name}\n",
    "        !convert tmp/blockdiag/{name}.svg tmp/blockdiag/{name}.png\n",
    "    else:\n",
    "        !blockdiag -Tpng tmp/blockdiag/{name}\n",
    "    display(Image('tmp/blockdiag/{}.png'.format(name)))"
   ]
  },
  {
   "cell_type": "markdown",
   "metadata": {},
   "source": [
    "# Aplicación de algoritmos evolutivos a la aproximación de filtros digitales en punto fijo"
   ]
  },
  {
   "cell_type": "markdown",
   "metadata": {},
   "source": [
    "## Extracto"
   ]
  },
  {
   "cell_type": "markdown",
   "metadata": {},
   "source": [
    "Este trabajo se centra en y los desafíos que supone su implementación en máquinas de cómputo "
   ]
  },
  {
   "cell_type": "markdown",
   "metadata": {},
   "source": [
    "## Estudio preliminar"
   ]
  },
  {
   "cell_type": "markdown",
   "metadata": {},
   "source": [
    "### Procesamiento digital de señales\n",
    "\n",
    "#### Filtrado en tiempo discreto\n",
    "\n",
    "asdasdad\n",
    "\n"
   ]
  },
  {
   "cell_type": "code",
   "execution_count": 72,
   "metadata": {},
   "outputs": [
    {
     "data": {
      "image/png": "[encoded data removed]",
      "text/plain": [
       "<IPython.core.display.Image object>"
      ]
     },
     "metadata": {},
     "output_type": "display_data"
    }
   ],
   "source": [
    "%%blockdiag generic_filter\n",
    "{\n",
    "    A -> S;\n",
    "    B -> S;\n",
    "    C -> S;\n",
    "}"
   ]
  },
  {
   "cell_type": "markdown",
   "metadata": {},
   "source": [
    "\n",
    "\n",
    "\n",
    "#### Efectos de la representación numérica\n",
    "\n"
   ]
  },
  {
   "cell_type": "markdown",
   "metadata": {},
   "source": [
    "### Algoritmos genéticos\n",
    "\n"
   ]
  },
  {
   "cell_type": "markdown",
   "metadata": {},
   "source": [
    "## Aplicación"
   ]
  },
  {
   "cell_type": "markdown",
   "metadata": {},
   "source": [
    "### Desarrollo del algoritmo\n",
    "\n",
    "$$\n",
    "\\begin{equation}\n",
    "y[n] = k \\cdot \\Bigl( b_0 \\cdot x[n] + b_1 \\cdot x[n-1] + b_2 \\cdot x[n-2] - a_1 \\cdot y[n-1] - a_2 \\cdot y[n-2] \\Bigr)\n",
    "\\end{equation}\n",
    "$$\n"
   ]
  },
  {
   "cell_type": "markdown",
   "metadata": {},
   "source": [
    "### Implementación"
   ]
  },
  {
   "cell_type": "markdown",
   "metadata": {},
   "source": [
    "### Desempeño"
   ]
  },
  {
   "cell_type": "markdown",
   "metadata": {},
   "source": [
    "## Conclusiones"
   ]
  }
 ],
 "metadata": {
  "kernelspec": {
   "display_name": "Python 3",
   "language": "python",
   "name": "python3"
  },
  "language_info": {
   "codemirror_mode": {
    "name": "ipython",
    "version": 3
   },
   "file_extension": ".py",
   "mimetype": "text/x-python",
   "name": "python",
   "nbconvert_exporter": "python",
   "pygments_lexer": "ipython3",
   "version": "3.6.7"
  }
 },
 "nbformat": 4,
 "nbformat_minor": 2
}
